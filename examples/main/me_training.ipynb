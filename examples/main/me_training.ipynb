{
 "cells": [
  {
   "cell_type": "markdown",
   "metadata": {},
   "source": [
    "[![Open In Colab](https://colab.research.google.com/assets/colab-badge.svg)](https://colab.research.google.com/github/adaptive-intelligent-robotics/Kheperax/blob/main/examples/main/me_training.ipynb)"
   ]
  },
  {
   "cell_type": "markdown",
   "metadata": {},
   "source": [
    "# Running MAP-Elites on Kheperax\n",
    "\n",
    "This example is directly inspired from the [MAP-Elites example of QDax](https://github.com/adaptive-intelligent-robotics/QDax/blob/96163f218f0ec1918aa237acefe3671f201c141f/examples/mapelites.ipynb)"
   ]
  },
  {
   "cell_type": "code",
   "execution_count": 1,
   "metadata": {},
   "outputs": [],
   "source": [
    "import kheperax\n",
    "\n",
    "# Uncomment the following line if you run this notebook on Google Colab\n",
    "# !pip install kheperax[cuda12]"
   ]
  },
  {
   "cell_type": "code",
   "execution_count": null,
   "metadata": {},
   "outputs": [],
   "source": [
    "# Imports\n",
    "\n",
    "import functools\n",
    "from pathlib import Path\n",
    "\n",
    "import jax\n",
    "import jax.numpy as jnp\n",
    "import matplotlib.pyplot as plt\n",
    "from qdax.core.containers.mapelites_repertoire import compute_euclidean_centroids\n",
    "from qdax.core.emitters.mutation_operators import isoline_variation\n",
    "from qdax.core.emitters.standard_emitters import MixingEmitter\n",
    "from qdax.core.map_elites import MAPElites\n",
    "from qdax.utils.metrics import default_qd_metrics\n",
    "from qdax.utils.plotting import plot_2d_map_elites_repertoire\n",
    "\n",
    "from kheperax.tasks.config import KheperaxConfig\n",
    "from kheperax.tasks.main import KheperaxTask"
   ]
  },
  {
   "cell_type": "code",
   "execution_count": 6,
   "metadata": {},
   "outputs": [],
   "source": [
    "# Parameters\n",
    "seed = 42\n",
    "batch_size = 2048\n",
    "num_evaluations = int(1e6)\n",
    "num_iterations = num_evaluations // batch_size\n",
    "grid_shape = (50, 50)\n",
    "episode_length = 250\n",
    "mlp_policy_hidden_layer_sizes = (8,)\n",
    "\n",
    "iso_sigma = 0.2\n",
    "line_sigma = 0.0"
   ]
  },
  {
   "cell_type": "code",
   "execution_count": 7,
   "metadata": {},
   "outputs": [],
   "source": [
    "# Init a random key\n",
    "random_key = jax.random.PRNGKey(seed)"
   ]
  },
  {
   "cell_type": "code",
   "execution_count": 8,
   "metadata": {},
   "outputs": [],
   "source": [
    "# Define Task configuration\n",
    "config_kheperax = KheperaxConfig.get_default()\n",
    "config_kheperax.episode_length = episode_length\n",
    "config_kheperax.mlp_policy_hidden_layer_sizes = mlp_policy_hidden_layer_sizes\n",
    "\n",
    "# Example of modification of the robots attributes\n",
    "# (same thing could be done with the maze)\n",
    "config_kheperax.robot = config_kheperax.robot.replace(\n",
    "    lasers_return_minus_one_if_out_of_range=True\n",
    ")"
   ]
  },
  {
   "cell_type": "code",
   "execution_count": 9,
   "metadata": {},
   "outputs": [],
   "source": [
    "# Create Kheperax Task.\n",
    "random_key, subkey = jax.random.split(random_key)\n",
    "(\n",
    "    env,\n",
    "    policy_network,\n",
    "    scoring_fn,\n",
    ") = KheperaxTask.create_default_task(\n",
    "    config_kheperax,\n",
    "    random_key=subkey,\n",
    ")"
   ]
  },
  {
   "cell_type": "code",
   "execution_count": 10,
   "metadata": {},
   "outputs": [],
   "source": [
    "# Initialise population of controllers\n",
    "random_key, subkey = jax.random.split(random_key)\n",
    "keys = jax.random.split(subkey, num=batch_size)\n",
    "fake_batch = jnp.zeros(shape=(batch_size, env.observation_size))\n",
    "init_variables = jax.vmap(policy_network.init)(keys, fake_batch)"
   ]
  },
  {
   "cell_type": "code",
   "execution_count": 11,
   "metadata": {},
   "outputs": [],
   "source": [
    "# Define QDax emitter\n",
    "variation_fn = functools.partial(\n",
    "    isoline_variation,\n",
    "    iso_sigma=iso_sigma,\n",
    "    line_sigma=line_sigma,\n",
    ")\n",
    "mixing_emitter = MixingEmitter(\n",
    "    mutation_fn=lambda x, y: (x, y),\n",
    "    variation_fn=variation_fn,\n",
    "    variation_percentage=1.0,\n",
    "    batch_size=batch_size,\n",
    ")\n",
    "\n",
    "# Define a metrics function\n",
    "metrics_fn = functools.partial(\n",
    "    default_qd_metrics,\n",
    "    qd_offset=0.5,\n",
    ")\n",
    "\n",
    "# Instantiate MAP-Elites\n",
    "map_elites = MAPElites(\n",
    "    scoring_function=scoring_fn,\n",
    "    emitter=mixing_emitter,\n",
    "    metrics_function=metrics_fn,\n",
    ")"
   ]
  },
  {
   "cell_type": "code",
   "execution_count": null,
   "metadata": {},
   "outputs": [],
   "source": [
    "# Compute the centroids\n",
    "min_bd, max_bd = env.behavior_descriptor_limits\n",
    "centroids = compute_euclidean_centroids(\n",
    "    grid_shape=grid_shape,\n",
    "    minval=min_bd,\n",
    "    maxval=max_bd,\n",
    ")\n",
    "\n",
    "# Initializes repertoire and emitter state\n",
    "repertoire, emitter_state, random_key = map_elites.init(\n",
    "    init_variables, centroids, random_key\n",
    ")\n"
   ]
  },
  {
   "cell_type": "code",
   "execution_count": null,
   "metadata": {},
   "outputs": [],
   "source": [
    "update_fn = jax.jit(map_elites.update)\n",
    "\n",
    "# Run MAP-Elites loop\n",
    "for iteration in range(num_iterations):\n",
    "    (\n",
    "        repertoire,\n",
    "        emitter_state,\n",
    "        metrics,\n",
    "        random_key,\n",
    "    ) = update_fn(\n",
    "        repertoire,\n",
    "        emitter_state,\n",
    "        random_key,\n",
    "    )\n",
    "    print(\n",
    "        f\"{iteration}/{num_iterations}\"\n",
    "        f\" - {({k: v.item() for (k, v) in metrics.items()})}\"\n",
    "    )"
   ]
  },
  {
   "cell_type": "code",
   "execution_count": null,
   "metadata": {},
   "outputs": [],
   "source": [
    "%matplotlib inline\n",
    "\n",
    "# plot archive\n",
    "fig, axes = plot_2d_map_elites_repertoire(\n",
    "    centroids=repertoire.centroids,\n",
    "    repertoire_fitnesses=repertoire.fitnesses,\n",
    "    minval=min_bd,\n",
    "    maxval=max_bd,\n",
    "    repertoire_descriptors=repertoire.descriptors,\n",
    "    # vmin=-0.2,\n",
    "    # vmax=0.0,\n",
    ")\n",
    "plt.show()"
   ]
  },
  {
   "cell_type": "code",
   "execution_count": null,
   "metadata": {},
   "outputs": [],
   "source": []
  }
 ],
 "metadata": {
  "kernelspec": {
   "display_name": "venv",
   "language": "python",
   "name": "python3"
  },
  "language_info": {
   "codemirror_mode": {
    "name": "ipython",
    "version": 3
   },
   "file_extension": ".py",
   "mimetype": "text/x-python",
   "name": "python",
   "nbconvert_exporter": "python",
   "pygments_lexer": "ipython3",
   "version": "3.10.12"
  }
 },
 "nbformat": 4,
 "nbformat_minor": 2
}
